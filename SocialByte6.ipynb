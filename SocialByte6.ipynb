{
 "cells": [
  {
   "cell_type": "code",
   "execution_count": null,
   "id": "b88c385a",
   "metadata": {},
   "outputs": [],
   "source": [
    "WITH MonthlySalaries AS (\n",
    "    SELECT \n",
    "        EmployeeID,\n",
    "        DATE_TRUNC('month', SalaryDate) AS Month,\n",
    "        SUM(Salary) AS SalarySum\n",
    "    FROM EmployeeSalary\n",
    "    GROUP BY EmployeeID, Month\n",
    "),\n",
    "RankedSalaries AS (\n",
    "    SELECT \n",
    "        EmployeeID,\n",
    "        Month,\n",
    "        SalarySum,\n",
    "        ROW_NUMBER() OVER (PARTITION BY EmployeeID ORDER BY Month DESC) AS RowNum\n",
    "    FROM MonthlySalaries\n",
    ")\n",
    "SELECT \n",
    "    rs.EmployeeID,\n",
    "    rs.Month,\n",
    "    SUM(rs.SalarySum) OVER (PARTITION BY rs.EmployeeID ORDER BY rs.Month DESC) AS CumulativeSalary\n",
    "FROM RankedSalaries rs\n",
    "WHERE rs.RowNum <= 3\n",
    "ORDER BY rs.EmployeeID ASC, rs.Month DESC;\n"
   ]
  }
 ],
 "metadata": {
  "kernelspec": {
   "display_name": "Python 3 (ipykernel)",
   "language": "python",
   "name": "python3"
  },
  "language_info": {
   "codemirror_mode": {
    "name": "ipython",
    "version": 3
   },
   "file_extension": ".py",
   "mimetype": "text/x-python",
   "name": "python",
   "nbconvert_exporter": "python",
   "pygments_lexer": "ipython3",
   "version": "3.10.9"
  }
 },
 "nbformat": 4,
 "nbformat_minor": 5
}
